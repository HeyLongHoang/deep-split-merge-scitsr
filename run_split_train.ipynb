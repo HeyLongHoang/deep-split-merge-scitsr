{
 "cells": [
  {
   "cell_type": "code",
   "execution_count": null,
   "metadata": {},
   "outputs": [],
   "source": [
    "import os\n",
    "import torch\n",
    "import torch.backends.cudnn as cudnn\n",
    "\n",
    "from split import train\n",
    "from modules.split_modules import SplitModel"
   ]
  },
  {
   "cell_type": "code",
   "execution_count": null,
   "metadata": {},
   "outputs": [],
   "source": [
    "# Path đến pretrained weights\n",
    "# Hiện tại em đang để k load pretrain vì lần trc em có update lại GT cho Split nên để model\n",
    "#   train lại từ đầu\n",
    "LOAD_PRETRAINED = False\n",
    "MODEL_WEIGHT = '/home/hoanghuuson/table_recognition/scitsr-split-train/result/resultCP_v2.pth'"
   ]
  },
  {
   "cell_type": "code",
   "execution_count": null,
   "metadata": {},
   "outputs": [],
   "source": [
    "# Chạy train trên dataset lớn (NOTE anh cần thay lại path)\n",
    "train_img_dir = '/home/hoanghuuson/table_recognition/scitsr-split-train-small/train/img'\n",
    "train_json_label = '/home/hoanghuuson/table_recognition/scitsr-split-train-small/train/label/split-label.json'\n",
    "val_img_dir = '/home/hoanghuuson/table_recognition/scitsr-split-train-small/val/img'\n",
    "val_json_label = '/home/hoanghuuson/table_recognition/scitsr-split-train-small/val/label/split-label.json'\n",
    "save_dir = '/home/hoanghuuson/table_recognition/scitsr-split-train-small/result'\n",
    "pred_dir = '/home/hoanghuuson/table_recognition/scitsr-split-train-small/imgs'\n",
    "# pred_dir để lưu kết quả của split cho 1 ảnh cụ thể"
   ]
  },
  {
   "cell_type": "code",
   "execution_count": null,
   "metadata": {},
   "outputs": [],
   "source": [
    "# # Chạy train trên dataset nhỏ\n",
    "# train_img_dir = '/home/hoanghuuson/table_recognition/scitsr-split-train-small/train/img'\n",
    "# train_json_label = '/home/hoanghuuson/table_recognition/scitsr-split-train-small/train/label/split-label.json'\n",
    "# val_img_dir = '/home/hoanghuuson/table_recognition/scitsr-split-train-small/val/img'\n",
    "# val_json_label = '/home/hoanghuuson/table_recognition/scitsr-split-train-small/val/label/split-label.json'\n",
    "# save_dir = '/home/hoanghuuson/table_recognition/scitsr-split-train-small/result'\n",
    "# pred_dir = '/home/hoanghuuson/table_recognition/scitsr-split-train-small/imgs'"
   ]
  },
  {
   "cell_type": "code",
   "execution_count": null,
   "metadata": {},
   "outputs": [],
   "source": [
    "class Args:\n",
    "    def __init__(self, train_img_dir, train_json_label, val_img_dir, val_json_label, save_dir,\n",
    "                 batch_size=1, epochs=50, gpu=True, gpu_list='0', lr=0.00075,\n",
    "                 featureW=8, scale=0.5):\n",
    "        self.img_dir = train_img_dir\n",
    "        self.json_dir = train_json_label\n",
    "        self.saved_dir = save_dir\n",
    "        self.val_img_dir = val_img_dir\n",
    "        self.val_json = val_json_label\n",
    "        self.batch_size = batch_size\n",
    "        self.epochs = epochs\n",
    "        self.gpu = gpu\n",
    "        self.gpu_list = gpu_list\n",
    "        self.lr = lr\n",
    "        self.featureW = featureW\n",
    "        self.scale = scale"
   ]
  },
  {
   "cell_type": "code",
   "execution_count": null,
   "metadata": {},
   "outputs": [],
   "source": [
    "torch.cuda.is_available()"
   ]
  },
  {
   "cell_type": "code",
   "execution_count": null,
   "metadata": {},
   "outputs": [],
   "source": [
    "opt = Args(train_img_dir, train_json_label, val_img_dir, val_json_label, save_dir)\n",
    "net = SplitModel(3)\n",
    "net = torch.nn.DataParallel(net)\n",
    "if LOAD_PRETRAINED:\n",
    "    net.load_state_dict(torch.load(MODEL_WEIGHT))\n",
    "\n",
    "if opt.gpu:\n",
    "    cudnn.benchmark = True\n",
    "    cudnn.deterministic = True\n",
    "    os.environ['CUDA_VISIBLE_DEVICES'] = opt.gpu_list\n",
    "    net = net.cuda()\n",
    "\n",
    "if not os.path.exists(opt.saved_dir):\n",
    "    os.mkdir(opt.saved_dir)\n",
    "\n",
    "train.train(opt, net, pred_dir)"
   ]
  }
 ],
 "metadata": {
  "kernelspec": {
   "display_name": "opencv-tut",
   "language": "python",
   "name": "python3"
  },
  "language_info": {
   "codemirror_mode": {
    "name": "ipython",
    "version": 3
   },
   "file_extension": ".py",
   "mimetype": "text/x-python",
   "name": "python",
   "nbconvert_exporter": "python",
   "pygments_lexer": "ipython3",
   "version": "3.11.5"
  }
 },
 "nbformat": 4,
 "nbformat_minor": 2
}
