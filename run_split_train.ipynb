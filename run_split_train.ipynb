{
 "cells": [
  {
   "cell_type": "code",
   "execution_count": 1,
   "metadata": {},
   "outputs": [],
   "source": [
    "import os\n",
    "import torch\n",
    "import torch.backends.cudnn as cudnn\n",
    "from PIL import Image\n",
    "import numpy as np\n",
    "import cv2\n",
    "\n",
    "from split import train\n",
    "from modules.split_modules import SplitModel"
   ]
  },
  {
   "cell_type": "code",
   "execution_count": 2,
   "metadata": {},
   "outputs": [],
   "source": [
    "train_img_dir = '/Users/longhoang/Developer/table-reg/data/scitsr-split-train/train/img'\n",
    "train_json_label = '/Users/longhoang/Developer/table-reg/data/scitsr-split-train/train/label/split-label.json'\n",
    "val_img_dir = '/Users/longhoang/Developer/table-reg/data/scitsr-split-train/val/img'\n",
    "val_json_label = '/Users/longhoang/Developer/table-reg/data/scitsr-split-train/val/label/split-label.json'\n",
    "save_dir = '/Users/longhoang/Developer/table-reg/data/scitsr-split-train/result'"
   ]
  },
  {
   "cell_type": "code",
   "execution_count": 3,
   "metadata": {},
   "outputs": [],
   "source": [
    "# !python ../fireae-split-merge/split/train.py --img_dir {train_img_dir} --json_dir {train_json_label} --saved_dir {save_dir} --val_img_dir {val_img_dir} --val_json {val_json_label}"
   ]
  },
  {
   "cell_type": "code",
   "execution_count": 4,
   "metadata": {},
   "outputs": [],
   "source": [
    "class Args:\n",
    "    def __init__(self, train_img_dir, train_json_label, val_img_dir, val_json_label, save_dir,\n",
    "                 batch_size=1, epochs=50, gpu=True, gpu_list='0', lr=0.00075,\n",
    "                 featureW=8, scale=0.5):\n",
    "        self.img_dir = train_img_dir\n",
    "        self.json_dir = train_json_label\n",
    "        self.saved_dir = save_dir\n",
    "        self.val_img_dir = val_img_dir\n",
    "        self.val_json = val_json_label\n",
    "        self.batch_size = batch_size\n",
    "        self.epochs = epochs\n",
    "        self.gpu = gpu\n",
    "        self.gpu_list = gpu_list\n",
    "        self.lr = lr\n",
    "        self.featureW = featureW\n",
    "        self.scale = scale"
   ]
  },
  {
   "cell_type": "code",
   "execution_count": 5,
   "metadata": {},
   "outputs": [
    {
     "name": "stdout",
     "output_type": "stream",
     "text": [
      "Data loaded!\n",
      "epoch:1\n",
      "Intel MKL WARNING: Support of Intel(R) Streaming SIMD Extensions 4.2 (Intel(R) SSE4.2) enabled only processors has been deprecated. Intel oneAPI Math Kernel Library 2025.0 will require Intel(R) Advanced Vector Extensions (Intel(R) AVX) instructions.\n"
     ]
    },
    {
     "name": "stderr",
     "output_type": "stream",
     "text": [
      "[W NNPACK.cpp:64] Could not initialize NNPACK! Reason: Unsupported hardware.\n"
     ]
    },
    {
     "ename": "KeyboardInterrupt",
     "evalue": "",
     "output_type": "error",
     "traceback": [
      "\u001b[0;31m---------------------------------------------------------------------------\u001b[0m",
      "\u001b[0;31mKeyboardInterrupt\u001b[0m                         Traceback (most recent call last)",
      "\u001b[1;32m/Users/longhoang/Developer/table-reg/code/split-merge/run_split_train.ipynb Cell 5\u001b[0m line \u001b[0;36m1\n\u001b[1;32m      <a href='vscode-notebook-cell:/Users/longhoang/Developer/table-reg/code/split-merge/run_split_train.ipynb#W4sZmlsZQ%3D%3D?line=8'>9</a>\u001b[0m \u001b[39mif\u001b[39;00m \u001b[39mnot\u001b[39;00m os\u001b[39m.\u001b[39mpath\u001b[39m.\u001b[39mexists(opt\u001b[39m.\u001b[39msaved_dir):\n\u001b[1;32m     <a href='vscode-notebook-cell:/Users/longhoang/Developer/table-reg/code/split-merge/run_split_train.ipynb#W4sZmlsZQ%3D%3D?line=9'>10</a>\u001b[0m     os\u001b[39m.\u001b[39mmkdir(opt\u001b[39m.\u001b[39msaved_dir)\n\u001b[0;32m---> <a href='vscode-notebook-cell:/Users/longhoang/Developer/table-reg/code/split-merge/run_split_train.ipynb#W4sZmlsZQ%3D%3D?line=11'>12</a>\u001b[0m train\u001b[39m.\u001b[39;49mtrain(opt, net)\n",
      "File \u001b[0;32m~/Developer/table-reg/code/split-merge/split/train.py:64\u001b[0m, in \u001b[0;36mtrain\u001b[0;34m(opt, net)\u001b[0m\n\u001b[1;32m     62\u001b[0m epoch_loss \u001b[39m+\u001b[39m\u001b[39m=\u001b[39m loss\n\u001b[1;32m     63\u001b[0m optimizer\u001b[39m.\u001b[39mzero_grad()\n\u001b[0;32m---> 64\u001b[0m loss\u001b[39m.\u001b[39;49mbackward()\n\u001b[1;32m     65\u001b[0m optimizer\u001b[39m.\u001b[39mstep()\n\u001b[1;32m     66\u001b[0m times \u001b[39m=\u001b[39m \u001b[39m1\u001b[39m\n",
      "File \u001b[0;32m~/opt/anaconda3/envs/opencv-tut/lib/python3.11/site-packages/torch/_tensor.py:492\u001b[0m, in \u001b[0;36mTensor.backward\u001b[0;34m(self, gradient, retain_graph, create_graph, inputs)\u001b[0m\n\u001b[1;32m    482\u001b[0m \u001b[39mif\u001b[39;00m has_torch_function_unary(\u001b[39mself\u001b[39m):\n\u001b[1;32m    483\u001b[0m     \u001b[39mreturn\u001b[39;00m handle_torch_function(\n\u001b[1;32m    484\u001b[0m         Tensor\u001b[39m.\u001b[39mbackward,\n\u001b[1;32m    485\u001b[0m         (\u001b[39mself\u001b[39m,),\n\u001b[0;32m   (...)\u001b[0m\n\u001b[1;32m    490\u001b[0m         inputs\u001b[39m=\u001b[39minputs,\n\u001b[1;32m    491\u001b[0m     )\n\u001b[0;32m--> 492\u001b[0m torch\u001b[39m.\u001b[39;49mautograd\u001b[39m.\u001b[39;49mbackward(\n\u001b[1;32m    493\u001b[0m     \u001b[39mself\u001b[39;49m, gradient, retain_graph, create_graph, inputs\u001b[39m=\u001b[39;49minputs\n\u001b[1;32m    494\u001b[0m )\n",
      "File \u001b[0;32m~/opt/anaconda3/envs/opencv-tut/lib/python3.11/site-packages/torch/autograd/__init__.py:251\u001b[0m, in \u001b[0;36mbackward\u001b[0;34m(tensors, grad_tensors, retain_graph, create_graph, grad_variables, inputs)\u001b[0m\n\u001b[1;32m    246\u001b[0m     retain_graph \u001b[39m=\u001b[39m create_graph\n\u001b[1;32m    248\u001b[0m \u001b[39m# The reason we repeat the same comment below is that\u001b[39;00m\n\u001b[1;32m    249\u001b[0m \u001b[39m# some Python versions print out the first line of a multi-line function\u001b[39;00m\n\u001b[1;32m    250\u001b[0m \u001b[39m# calls in the traceback and some print out the last line\u001b[39;00m\n\u001b[0;32m--> 251\u001b[0m Variable\u001b[39m.\u001b[39;49m_execution_engine\u001b[39m.\u001b[39;49mrun_backward(  \u001b[39m# Calls into the C++ engine to run the backward pass\u001b[39;49;00m\n\u001b[1;32m    252\u001b[0m     tensors,\n\u001b[1;32m    253\u001b[0m     grad_tensors_,\n\u001b[1;32m    254\u001b[0m     retain_graph,\n\u001b[1;32m    255\u001b[0m     create_graph,\n\u001b[1;32m    256\u001b[0m     inputs,\n\u001b[1;32m    257\u001b[0m     allow_unreachable\u001b[39m=\u001b[39;49m\u001b[39mTrue\u001b[39;49;00m,\n\u001b[1;32m    258\u001b[0m     accumulate_grad\u001b[39m=\u001b[39;49m\u001b[39mTrue\u001b[39;49;00m,\n\u001b[1;32m    259\u001b[0m )\n",
      "\u001b[0;31mKeyboardInterrupt\u001b[0m: "
     ]
    }
   ],
   "source": [
    "opt = Args(train_img_dir, train_json_label, val_img_dir, val_json_label, save_dir, gpu=False)\n",
    "net = SplitModel(3)\n",
    "if opt.gpu:\n",
    "    cudnn.benchmark = True\n",
    "    cudnn.deterministic = True\n",
    "    os.environ['CUDA_VISIBLE_DEVICES'] = opt.gpu_list\n",
    "    net = torch.nn.DataParallel(net).cuda()\n",
    "\n",
    "if not os.path.exists(opt.saved_dir):\n",
    "    os.mkdir(opt.saved_dir)\n",
    "\n",
    "train.train(opt, net)"
   ]
  },
  {
   "cell_type": "code",
   "execution_count": null,
   "metadata": {},
   "outputs": [
    {
     "data": {
      "text/plain": [
       "(3, 233, 478)"
      ]
     },
     "execution_count": 12,
     "metadata": {},
     "output_type": "execute_result"
    }
   ],
   "source": [
    "img_path = os.path.join(opt.img_dir, os.listdir(opt.img_dir)[0])\n",
    "img = cv2.imread(img_path)\n",
    "img = cv2.cvtColor(img, cv2.COLOR_BGR2RGB)\n",
    "img = np.transpose(img, (2,0,1))\n",
    "img.shape"
   ]
  },
  {
   "cell_type": "code",
   "execution_count": null,
   "metadata": {},
   "outputs": [],
   "source": []
  }
 ],
 "metadata": {
  "kernelspec": {
   "display_name": "opencv-tut",
   "language": "python",
   "name": "python3"
  },
  "language_info": {
   "codemirror_mode": {
    "name": "ipython",
    "version": 3
   },
   "file_extension": ".py",
   "mimetype": "text/x-python",
   "name": "python",
   "nbconvert_exporter": "python",
   "pygments_lexer": "ipython3",
   "version": "3.11.5"
  }
 },
 "nbformat": 4,
 "nbformat_minor": 2
}
