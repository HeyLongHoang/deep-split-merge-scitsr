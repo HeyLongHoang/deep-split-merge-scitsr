{
 "cells": [
  {
   "cell_type": "code",
   "execution_count": 11,
   "metadata": {},
   "outputs": [],
   "source": [
    "import os\n",
    "import json\n",
    "import cv2 as cv\n",
    "import random\n",
    "import shutil\n",
    "import json"
   ]
  },
  {
   "cell_type": "markdown",
   "metadata": {},
   "source": [
    "Assuming the labels for the split module have already been created. See `partition_split.ipynb` notebook for more details"
   ]
  },
  {
   "cell_type": "code",
   "execution_count": 12,
   "metadata": {},
   "outputs": [],
   "source": [
    "# NOTE: change the paths to your dataset and created Merge labels\n",
    "OG_SCITSR_PATH = '/Users/longhoang/Developer/table-reg/data/SciTSR'\n",
    "OG_SCITSR_MERGE_LABEL = '/Users/longhoang/Developer/table-reg/data/SciTSR/train/label/merge_label.json'\n",
    "\n",
    "OG_SCITSR_TRAIN = os.path.join(OG_SCITSR_PATH, 'train')"
   ]
  },
  {
   "cell_type": "code",
   "execution_count": 13,
   "metadata": {},
   "outputs": [],
   "source": [
    "# NOTE: change the path to the directory for the new partitioned dataset\n",
    "NEW_SCITSR_DIR = '/Users/longhoang/Developer/table-reg/data'\n",
    "\n",
    "NEW_SCITSR_ROOT = os.path.join(NEW_SCITSR_DIR, 'scitsr-split-train')\n",
    "NEW_SCITSR_TRAIN = os.path.join(NEW_SCITSR_ROOT, 'train')\n",
    "NEW_SCITSR_VAL = os.path.join(NEW_SCITSR_ROOT, 'val')\n",
    "\n",
    "os.makedirs(NEW_SCITSR_TRAIN, exist_ok=True)\n",
    "os.makedirs(NEW_SCITSR_VAL, exist_ok=True)"
   ]
  },
  {
   "cell_type": "code",
   "execution_count": 14,
   "metadata": {},
   "outputs": [],
   "source": [
    "folders = ['img', 'label']\n",
    "\n",
    "for folder in folders:\n",
    "    os.makedirs(os.path.join(NEW_SCITSR_TRAIN, folder), exist_ok=True)\n",
    "    os.makedirs(os.path.join(NEW_SCITSR_VAL, folder), exist_ok=True)"
   ]
  },
  {
   "cell_type": "code",
   "execution_count": 15,
   "metadata": {},
   "outputs": [],
   "source": [
    "def path2name(img_path):\n",
    "    return os.path.splitext(os.path.basename(img_path))[0]"
   ]
  },
  {
   "cell_type": "code",
   "execution_count": 16,
   "metadata": {},
   "outputs": [
    {
     "data": {
      "text/plain": [
       "10000"
      ]
     },
     "execution_count": 16,
     "metadata": {},
     "output_type": "execute_result"
    }
   ],
   "source": [
    "NEW_TRAIN_IMG = os.path.join(NEW_SCITSR_TRAIN, 'img')\n",
    "\n",
    "imgs_paths = [os.path.join(NEW_TRAIN_IMG, p) for p in os.listdir(NEW_TRAIN_IMG)]\n",
    "len(imgs_paths)"
   ]
  },
  {
   "cell_type": "code",
   "execution_count": 17,
   "metadata": {},
   "outputs": [
    {
     "data": {
      "text/plain": [
       "11971"
      ]
     },
     "execution_count": 17,
     "metadata": {},
     "output_type": "execute_result"
    }
   ],
   "source": [
    "with open(OG_SCITSR_MERGE_LABEL, 'r') as f:\n",
    "    merge_labels = json.load(f)\n",
    "len(merge_labels)"
   ]
  },
  {
   "cell_type": "code",
   "execution_count": 18,
   "metadata": {},
   "outputs": [
    {
     "data": {
      "text/plain": [
       "10000"
      ]
     },
     "execution_count": 18,
     "metadata": {},
     "output_type": "execute_result"
    }
   ],
   "source": [
    "LABELS = {}\n",
    "for img_path in imgs_paths:\n",
    "    img_name = path2name(img_path)\n",
    "    LABELS[img_name] = merge_labels[img_name]\n",
    "\n",
    "len(LABELS)"
   ]
  },
  {
   "cell_type": "code",
   "execution_count": 19,
   "metadata": {},
   "outputs": [],
   "source": [
    "NEW_TRAIN_LABEL = os.path.join(NEW_SCITSR_TRAIN, 'label')\n",
    "new_train_label = os.path.join(NEW_TRAIN_LABEL, 'merge_label.json')\n",
    "\n",
    "with open(new_train_label, 'w') as f:\n",
    "    json.dump(LABELS, f)"
   ]
  },
  {
   "cell_type": "code",
   "execution_count": 20,
   "metadata": {},
   "outputs": [
    {
     "name": "stdout",
     "output_type": "stream",
     "text": [
      "Found 1971 images!\n",
      "Got 11971 labels from file!\n",
      "Created labels for 1971 images\n",
      "Created json file successfully\n"
     ]
    }
   ],
   "source": [
    "def partition_merge(partition_folder: str, merge_labels_path: str):\n",
    "    IMG_DIR = os.path.join(partition_folder, 'img')\n",
    "\n",
    "    imgs_paths = [os.path.join(IMG_DIR, p) for p in os.listdir(IMG_DIR)]\n",
    "    print(f'Found {len(imgs_paths)} images!')\n",
    "    \n",
    "    with open(merge_labels_path, 'r') as f:\n",
    "        merge_labels = json.load(f)\n",
    "    print(f'Got {len(merge_labels)} labels from file!')\n",
    "\n",
    "    LABELS = {}\n",
    "    for img_path in imgs_paths:\n",
    "        img_name = path2name(img_path)\n",
    "        LABELS[img_name] = merge_labels[img_name]\n",
    "\n",
    "    print(f'Created labels for {len(LABELS)} images')\n",
    "\n",
    "    label_path = os.path.join(partition_folder, 'label', 'merge_label.json')\n",
    "    with open(label_path, 'w') as f:\n",
    "        json.dump(LABELS, f)\n",
    "    print(f'Created json file successfully')\n",
    "\n",
    "partition_merge(NEW_SCITSR_VAL, OG_SCITSR_MERGE_LABEL)"
   ]
  },
  {
   "cell_type": "code",
   "execution_count": null,
   "metadata": {},
   "outputs": [],
   "source": []
  }
 ],
 "metadata": {
  "kernelspec": {
   "display_name": "opencv-tut",
   "language": "python",
   "name": "python3"
  },
  "language_info": {
   "codemirror_mode": {
    "name": "ipython",
    "version": 3
   },
   "file_extension": ".py",
   "mimetype": "text/x-python",
   "name": "python",
   "nbconvert_exporter": "python",
   "pygments_lexer": "ipython3",
   "version": "3.11.5"
  }
 },
 "nbformat": 4,
 "nbformat_minor": 2
}
