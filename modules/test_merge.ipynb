{
 "cells": [
  {
   "cell_type": "code",
   "execution_count": 1,
   "metadata": {},
   "outputs": [
    {
     "ename": "RuntimeError",
     "evalue": "split_with_sizes expects split_sizes have only non-negative entries, but got split_sizes=[0, 0, -5, 0, 0, 0, 5, 0, 0]",
     "output_type": "error",
     "traceback": [
      "\u001b[0;31m---------------------------------------------------------------------------\u001b[0m",
      "\u001b[0;31mRuntimeError\u001b[0m                              Traceback (most recent call last)",
      "\u001b[1;32m/Users/longhoang/Developer/table-reg/code/split-merge/modules/test_merge.ipynb Cell 1\u001b[0m line \u001b[0;36m1\n\u001b[1;32m     <a href='vscode-notebook-cell:/Users/longhoang/Developer/table-reg/code/split-merge/modules/test_merge.ipynb#W0sZmlsZQ%3D%3D?line=10'>11</a>\u001b[0m rows \u001b[39m=\u001b[39m [h_line[i \u001b[39m+\u001b[39m \u001b[39m1\u001b[39m] \u001b[39m-\u001b[39m h_line[i] \u001b[39mfor\u001b[39;00m i \u001b[39min\u001b[39;00m \u001b[39mrange\u001b[39m(\u001b[39mlen\u001b[39m(h_line) \u001b[39m-\u001b[39m \u001b[39m1\u001b[39m)]\n\u001b[1;32m     <a href='vscode-notebook-cell:/Users/longhoang/Developer/table-reg/code/split-merge/modules/test_merge.ipynb#W0sZmlsZQ%3D%3D?line=11'>12</a>\u001b[0m columns \u001b[39m=\u001b[39m [v_line[i \u001b[39m+\u001b[39m \u001b[39m1\u001b[39m] \u001b[39m-\u001b[39m v_line[i] \u001b[39mfor\u001b[39;00m i \u001b[39min\u001b[39;00m \u001b[39mrange\u001b[39m(\u001b[39mlen\u001b[39m(v_line) \u001b[39m-\u001b[39m \u001b[39m1\u001b[39m)]\n\u001b[0;32m---> <a href='vscode-notebook-cell:/Users/longhoang/Developer/table-reg/code/split-merge/modules/test_merge.ipynb#W0sZmlsZQ%3D%3D?line=13'>14</a>\u001b[0m slices \u001b[39m=\u001b[39m torch\u001b[39m.\u001b[39;49msplit(x, rows, dim\u001b[39m=\u001b[39;49m\u001b[39m2\u001b[39;49m)\n",
      "File \u001b[0;32m~/opt/anaconda3/envs/opencv-tut/lib/python3.11/site-packages/torch/functional.py:187\u001b[0m, in \u001b[0;36msplit\u001b[0;34m(tensor, split_size_or_sections, dim)\u001b[0m\n\u001b[1;32m    181\u001b[0m     \u001b[39mreturn\u001b[39;00m handle_torch_function(\n\u001b[1;32m    182\u001b[0m         split, (tensor,), tensor, split_size_or_sections, dim\u001b[39m=\u001b[39mdim)\n\u001b[1;32m    183\u001b[0m \u001b[39m# Overwriting reason:\u001b[39;00m\n\u001b[1;32m    184\u001b[0m \u001b[39m# This dispatches to two ATen functions depending on the type of\u001b[39;00m\n\u001b[1;32m    185\u001b[0m \u001b[39m# split_size_or_sections. The branching code is in _tensor.py, which we\u001b[39;00m\n\u001b[1;32m    186\u001b[0m \u001b[39m# call here.\u001b[39;00m\n\u001b[0;32m--> 187\u001b[0m \u001b[39mreturn\u001b[39;00m tensor\u001b[39m.\u001b[39;49msplit(split_size_or_sections, dim)\n",
      "File \u001b[0;32m~/opt/anaconda3/envs/opencv-tut/lib/python3.11/site-packages/torch/_tensor.py:864\u001b[0m, in \u001b[0;36mTensor.split\u001b[0;34m(self, split_size, dim)\u001b[0m\n\u001b[1;32m    862\u001b[0m     \u001b[39mreturn\u001b[39;00m torch\u001b[39m.\u001b[39m_VF\u001b[39m.\u001b[39msplit(\u001b[39mself\u001b[39m, split_size, dim)  \u001b[39m# type: ignore[attr-defined]\u001b[39;00m\n\u001b[1;32m    863\u001b[0m \u001b[39melse\u001b[39;00m:\n\u001b[0;32m--> 864\u001b[0m     \u001b[39mreturn\u001b[39;00m torch\u001b[39m.\u001b[39;49m_VF\u001b[39m.\u001b[39;49msplit_with_sizes(\u001b[39mself\u001b[39;49m, split_size, dim)\n",
      "\u001b[0;31mRuntimeError\u001b[0m: split_with_sizes expects split_sizes have only non-negative entries, but got split_sizes=[0, 0, -5, 0, 0, 0, 5, 0, 0]"
     ]
    }
   ],
   "source": [
    "import torch\n",
    "\n",
    "x = torch.rand((1, 18, 5, 10)) # feature vector of shape (B, C, H, W)\n",
    "h = torch.tensor([1,1,1,0,0,0,0,1,1,1])\n",
    "c = torch.tensor([1,1,0,0,0,0,1,1,0,0,0,0,1,1])\n",
    "\n",
    "_, _, H, W = x.size()\n",
    "h_line = H * h\n",
    "v_line = W * c\n",
    "\n",
    "rows = [h_line[i + 1] - h_line[i] for i in range(len(h_line) - 1)]\n",
    "columns = [v_line[i + 1] - v_line[i] for i in range(len(v_line) - 1)]\n",
    "\n",
    "slices = torch.split(x, rows, dim=2)"
   ]
  },
  {
   "cell_type": "code",
   "execution_count": 19,
   "metadata": {},
   "outputs": [
    {
     "data": {
      "text/plain": [
       "tensor([ 5, 10, 15, 15, 15, 15, 15, 20, 25, 30])"
      ]
     },
     "execution_count": 19,
     "metadata": {},
     "output_type": "execute_result"
    }
   ],
   "source": [
    "import torch\n",
    "import itertools\n",
    "\n",
    "x = torch.rand((1, 18, 5, 10))  # feature vector of shape (B, C, H, W)\n",
    "h = torch.tensor([1, 1, 1, 0, 0, 0, 0, 1, 1, 1])\n",
    "c = torch.tensor([1, 1, 0, 0, 0, 0, 1, 1, 0, 0, 0, 0, 1, 1])\n",
    "\n",
    "_, _, H, W = x.size()\n",
    "h_line = (H * h).cumsum(0)  # Cumulative sum to avoid negative values\n",
    "v_line = (W * c).cumsum(0)  # Cumulative sum to avoid negative values\n",
    "h_line\n",
    "\n",
    "# # Split based on the number of consecutive 1's and 0's\n",
    "# rows = [len(list(g)) for k, g in itertools.groupby(h) if k == 1]\n",
    "# columns = [len(list(g)) for k, g in itertools.groupby(c) if k == 1]\n",
    "\n",
    "# # Use torch.split with specified split sizes\n",
    "# slices = torch.split(x, rows, dim=2)"
   ]
  },
  {
   "cell_type": "code",
   "execution_count": null,
   "metadata": {},
   "outputs": [],
   "source": []
  }
 ],
 "metadata": {
  "kernelspec": {
   "display_name": "opencv-tut",
   "language": "python",
   "name": "python3"
  },
  "language_info": {
   "codemirror_mode": {
    "name": "ipython",
    "version": 3
   },
   "file_extension": ".py",
   "mimetype": "text/x-python",
   "name": "python",
   "nbconvert_exporter": "python",
   "pygments_lexer": "ipython3",
   "version": "3.11.5"
  }
 },
 "nbformat": 4,
 "nbformat_minor": 2
}
