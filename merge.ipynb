{
 "cells": [
  {
   "cell_type": "code",
   "execution_count": 1,
   "metadata": {},
   "outputs": [
    {
     "name": "stdout",
     "output_type": "stream",
     "text": [
      "Intel MKL WARNING: Support of Intel(R) Streaming SIMD Extensions 4.2 (Intel(R) SSE4.2) enabled only processors has been deprecated. Intel oneAPI Math Kernel Library 2025.0 will require Intel(R) Advanced Vector Extensions (Intel(R) AVX) instructions.\n",
      "Intel MKL WARNING: Support of Intel(R) Streaming SIMD Extensions 4.2 (Intel(R) SSE4.2) enabled only processors has been deprecated. Intel oneAPI Math Kernel Library 2025.0 will require Intel(R) Advanced Vector Extensions (Intel(R) AVX) instructions.\n"
     ]
    }
   ],
   "source": [
    "import os\n",
    "import torch\n",
    "import json\n",
    "import cv2 as cv\n",
    "import numpy as np\n",
    "import matplotlib.pyplot as plt\n",
    "from torch.utils.data import Dataset\n",
    "import torch.nn as nn\n",
    "from torchsummary import summary"
   ]
  },
  {
   "cell_type": "code",
   "execution_count": 2,
   "metadata": {},
   "outputs": [
    {
     "data": {
      "text/plain": [
       "'cpu'"
      ]
     },
     "execution_count": 2,
     "metadata": {},
     "output_type": "execute_result"
    }
   ],
   "source": [
    "device = 'cuda' if torch.cuda.is_available() else 'cpu'\n",
    "device"
   ]
  },
  {
   "cell_type": "code",
   "execution_count": 3,
   "metadata": {},
   "outputs": [
    {
     "data": {
      "text/plain": [
       "64"
      ]
     },
     "execution_count": 3,
     "metadata": {},
     "output_type": "execute_result"
    }
   ],
   "source": [
    "DATA_ROOT = '/Users/longhoang/Developer/table-reg/data/scitsr-small'\n",
    "DATA_TRAIN = os.path.join(DATA_ROOT, 'train')\n",
    "IMGS_TRAIN = os.path.join(DATA_TRAIN, 'img')\n",
    "LABELS_TRAIN = os.path.join(DATA_TRAIN, 'label', 'merge-label.json')\n",
    "\n",
    "with open(LABELS_TRAIN, 'r') as f:\n",
    "    merge_labels_train = json.load(f)\n",
    "\n",
    "len(merge_labels_train)"
   ]
  },
  {
   "cell_type": "code",
   "execution_count": 13,
   "metadata": {},
   "outputs": [],
   "source": [
    "class MergeDataset(Dataset):\n",
    "    def __init__(self, img_dir, labels_dict, output_width=None,\n",
    "                 scale=0.5, min_width=40, mode='split', suffix='png'):\n",
    "        \"\"\"\n",
    "        Args:\n",
    "            img_dir (str) -- the directory of images\n",
    "            labels_dict (dict) -- dictionary where keys are images' names \n",
    "                                and values are ground truths\n",
    "            output_width (int) -- width of output tensor\n",
    "            scale (float) -- scale to resize original image\n",
    "            min_width (int) -- minimum width of the resized image\n",
    "            mode (str) -- 'split' or 'merge'\n",
    "        \"\"\"\n",
    "        super().__init__()\n",
    "        self.labels_dict = labels_dict\n",
    "        self.ids = list(labels_dict.keys()) # list of image names\n",
    "        self.n_samples = len(self.ids)\n",
    "        self.img_dir = img_dir\n",
    "        self.output_width = output_width\n",
    "        self.scale = scale\n",
    "        self.min_width = min_width\n",
    "        self.mode = mode\n",
    "        self.suffix = suffix\n",
    "\n",
    "    def __len__(self): return self.n_samples\n",
    "\n",
    "    def __getitem__(self, index):\n",
    "        assert index <= len(self), 'Index range error'\n",
    "        img_name = self.ids[index]\n",
    "        if self.suffix != 'png':\n",
    "            print('Only support `png` suffix currently')\n",
    "            return None\n",
    "        else:\n",
    "            img = cv.imread(os.path.join(self.img_dir, img_name + '.' + self.suffix ))\n",
    "            img = cv.cvtColor(img, cv.COLOR_BGR2RGB)\n",
    "            img = img.transpose((2,0,1))\n",
    "        \n",
    "        c, h, w = img.shape\n",
    "        h_new = int(self.scale * h) if int(self.scale * h) > self.min_width \\\n",
    "                                    else self.min_width\n",
    "        w_new = int(self.scale * w) if int(self.scale * w) > self.min_width \\\n",
    "                                    else self.min_width\n",
    "        img = np.array([\n",
    "            cv.resize(img[i], (w_new, h_new), interpolation=cv.INTER_AREA)\n",
    "            for i in range(c)\n",
    "        ])\n",
    "        img_array = img / 255.\n",
    "\n",
    "        labels = self.labels_dict[img_name]\n",
    "        rows = labels['rows']\n",
    "        columns = labels['columns']\n",
    "        h_matrix = labels['h_matrix']\n",
    "        v_matrix = labels['v_matrix']\n",
    "\n",
    "        img_tensor = torch.from_numpy(img_array).type(torch.float)\n",
    "        h_matrix = torch.from_numpy(np.array(h_matrix)).type(torch.float)\n",
    "        v_matrix = torch.from_numpy(np.array(v_matrix)).type(torch.float)\n",
    "\n",
    "        return img_tensor, (h_matrix, v_matrix), (rows, columns)\n"
   ]
  },
  {
   "cell_type": "code",
   "execution_count": 14,
   "metadata": {},
   "outputs": [],
   "source": [
    "merge_train_dataset = MergeDataset(IMGS_TRAIN, merge_labels_train, scale=1)"
   ]
  },
  {
   "cell_type": "code",
   "execution_count": 18,
   "metadata": {},
   "outputs": [
    {
     "name": "stdout",
     "output_type": "stream",
     "text": [
      "torch.Size([3, 83, 394])\n"
     ]
    },
    {
     "data": {
      "text/plain": [
       "<matplotlib.image.AxesImage at 0x173502010>"
      ]
     },
     "execution_count": 18,
     "metadata": {},
     "output_type": "execute_result"
    },
    {
     "data": {
      "image/png": "[encoded data removed]",
      "text/plain": [
       "<Figure size 640x480 with 1 Axes>"
      ]
     },
     "metadata": {},
     "output_type": "display_data"
    }
   ],
   "source": [
    "img_sample, (h_matrix, v_matrix), (rows, columns) = merge_train_dataset[0]\n",
    "print(img_sample.shape)\n",
    "plt.imshow(img_sample.cpu().numpy().transpose((1,2,0)))"
   ]
  },
  {
   "cell_type": "code",
   "execution_count": 7,
   "metadata": {},
   "outputs": [],
   "source": [
    "class SharedFC(nn.Module):\n",
    "    def __init__(self, in_channels=3):\n",
    "        super().__init__()\n",
    "        self.conv1 = nn.Sequential(\n",
    "            nn.Conv2d(in_channels, 18, 7, stride=1, padding=3, bias=False),\n",
    "            nn.ReLU(True),\n",
    "        )\n",
    "        self.conv2 = nn.Sequential(\n",
    "            nn.Conv2d(18, 18, 7, stride=1, padding=3, bias=False),\n",
    "            nn.ReLU(True),\n",
    "            nn.MaxPool2d(2)\n",
    "        )\n",
    "        self.conv3 = nn.Sequential(\n",
    "            nn.Conv2d(18, 18, 7, stride=1, padding=3, bias=False),\n",
    "            nn.ReLU(True),\n",
    "        )\n",
    "        self.conv4 = nn.Sequential(\n",
    "            nn.Conv2d(18, 18, 7, stride=1, padding=3, bias=False),\n",
    "            nn.ReLU(True),\n",
    "            nn.MaxPool2d(2)\n",
    "        )\n",
    "        \n",
    "    def forward(self, x):\n",
    "        return self.conv4(self.conv3(self.conv2(self.conv1(x))))"
   ]
  },
  {
   "cell_type": "code",
   "execution_count": 8,
   "metadata": {},
   "outputs": [
    {
     "name": "stdout",
     "output_type": "stream",
     "text": [
      "==========================================================================================\n",
      "Layer (type:depth-idx)                   Output Shape              Param #\n",
      "==========================================================================================\n",
      "├─Sequential: 1-1                        [-1, 18, 40, 320]         --\n",
      "|    └─Conv2d: 2-1                       [-1, 18, 40, 320]         2,646\n",
      "|    └─ReLU: 2-2                         [-1, 18, 40, 320]         --\n",
      "├─Sequential: 1-2                        [-1, 18, 20, 160]         --\n",
      "|    └─Conv2d: 2-3                       [-1, 18, 40, 320]         15,876\n",
      "|    └─ReLU: 2-4                         [-1, 18, 40, 320]         --\n",
      "|    └─MaxPool2d: 2-5                    [-1, 18, 20, 160]         --\n",
      "├─Sequential: 1-3                        [-1, 18, 20, 160]         --\n",
      "|    └─Conv2d: 2-6                       [-1, 18, 20, 160]         15,876\n",
      "|    └─ReLU: 2-7                         [-1, 18, 20, 160]         --\n",
      "├─Sequential: 1-4                        [-1, 18, 10, 80]          --\n",
      "|    └─Conv2d: 2-8                       [-1, 18, 20, 160]         15,876\n",
      "|    └─ReLU: 2-9                         [-1, 18, 20, 160]         --\n",
      "|    └─MaxPool2d: 2-10                   [-1, 18, 10, 80]          --\n",
      "==========================================================================================\n",
      "Total params: 50,274\n",
      "Trainable params: 50,274\n",
      "Non-trainable params: 0\n",
      "Total mult-adds (M): 338.74\n",
      "==========================================================================================\n",
      "Input size (MB): 0.15\n",
      "Forward/backward pass size (MB): 4.39\n",
      "Params size (MB): 0.19\n",
      "Estimated Total Size (MB): 4.73\n",
      "==========================================================================================\n",
      "==========================================================================================\n",
      "Layer (type:depth-idx)                   Output Shape              Param #\n",
      "==========================================================================================\n",
      "├─Sequential: 1-1                        [-1, 18, 40, 320]         --\n",
      "|    └─Conv2d: 2-1                       [-1, 18, 40, 320]         2,646\n",
      "|    └─ReLU: 2-2                         [-1, 18, 40, 320]         --\n",
      "├─Sequential: 1-2                        [-1, 18, 20, 160]         --\n",
      "|    └─Conv2d: 2-3                       [-1, 18, 40, 320]         15,876\n",
      "|    └─ReLU: 2-4                         [-1, 18, 40, 320]         --\n",
      "|    └─MaxPool2d: 2-5                    [-1, 18, 20, 160]         --\n",
      "├─Sequential: 1-3                        [-1, 18, 20, 160]         --\n",
      "|    └─Conv2d: 2-6                       [-1, 18, 20, 160]         15,876\n",
      "|    └─ReLU: 2-7                         [-1, 18, 20, 160]         --\n",
      "├─Sequential: 1-4                        [-1, 18, 10, 80]          --\n",
      "|    └─Conv2d: 2-8                       [-1, 18, 20, 160]         15,876\n",
      "|    └─ReLU: 2-9                         [-1, 18, 20, 160]         --\n",
      "|    └─MaxPool2d: 2-10                   [-1, 18, 10, 80]          --\n",
      "==========================================================================================\n",
      "Total params: 50,274\n",
      "Trainable params: 50,274\n",
      "Non-trainable params: 0\n",
      "Total mult-adds (M): 338.74\n",
      "==========================================================================================\n",
      "Input size (MB): 0.15\n",
      "Forward/backward pass size (MB): 4.39\n",
      "Params size (MB): 0.19\n",
      "Estimated Total Size (MB): 4.73\n",
      "==========================================================================================\n"
     ]
    }
   ],
   "source": [
    "sharedFC_model = SharedFC().to(device)\n",
    "\n",
    "print(summary(sharedFC_model, (3, 40, 320)))"
   ]
  },
  {
   "cell_type": "code",
   "execution_count": 12,
   "metadata": {},
   "outputs": [],
   "source": [
    "class ProjectionNet(nn.Module):\n",
    "    def __init__(self, in_channels, sigmoid=False, dropout=0.5):\n",
    "        super().__init__()\n",
    "        self.conv_branch1 = nn.Sequential(\n",
    "            nn.Conv2d(in_channels, 6, 3, stride=1, padding=1, dilation=1),\n",
    "            nn.GroupNorm(3, 6),\n",
    "            nn.ReLU(True)\n",
    "        )\n",
    "        self.conv_branch2 = nn.Sequential(\n",
    "            nn.Conv2d(in_channels, 6, 3, stride=1, padding=1, dilation=2),\n",
    "            nn.GroupNorm(3, 6),\n",
    "            nn.ReLU(True)\n",
    "        )\n",
    "        self.conv_branch3 = nn.Sequential(\n",
    "            nn.Conv2d(in_channels, 6, 3, stride=1, padding=1, dilation=3),\n",
    "            nn.GroupNorm(3, 6),\n",
    "            nn.ReLU(True)\n",
    "        )\n",
    "        self.sigmoid = sigmoid\n",
    "        self.project_module = ProjectionModule(18, sigmoid, dropout)\n",
    "\n",
    "    def forward(self, x, arc):\n",
    "        '''\n",
    "        Args:\n",
    "            x (torch.tensor) -- input tensor of shape (B, C, H, W)\n",
    "            arc (list(torch.tensor)) -- row and col predictions from Split module\n",
    "        Returns:\n",
    "            output (torch.tensor) -- same shape as input tensor\n",
    "            matrix (torch.tensor) -- matrix of shape M x N\n",
    "                                        where M is the number of rows\n",
    "                                              N is the number of columns\n",
    "        '''\n",
    "        out = torch.cat(\n",
    "            [m(x) for m in [self.conv_branch1, self.conv_branch2, self.conv_branch3]],\n",
    "            dim=1\n",
    "        )\n",
    "        out, matrix = self.project_module(out, arc)\n",
    "        if self.sigmoid: # NOTE: check this again\n",
    "            return out, matrix\n",
    "        else:\n",
    "            return out\n",
    "        \n",
    "class ProjectionModule(nn.Module):\n",
    "    def __init__(self, in_channels, sigmoid=False, dropout=0.5):\n",
    "        super().__init__()\n",
    "        self.sigmoid = sigmoid\n",
    "        self.feat_conv = nn.Sequential(\n",
    "            nn.Conv2d(in_channels, in_channels, 1, bias=False),\n",
    "            nn.GroupNorm(6, in_channels),\n",
    "            nn.ReLU(True)\n",
    "        )\n",
    "        self.pred_conv = nn.Sequential(\n",
    "            nn.Dropout2d(dropout), # NOTE: why dropout here ?\n",
    "            nn.Conv2d(in_channels, 1, 1, bias=False)\n",
    "        )\n",
    "        self.feat_project = GridProjectPooling()\n",
    "        self.pred_project = GridProjectPooling()\n",
    "        self.sigmoid_layer = nn.Sigmoid()\n",
    "\n",
    "    def forward(self, x, arc):\n",
    "        base_input = x\n",
    "        # branch 1 & 2\n",
    "        feat = self.feat_conv(base_input)\n",
    "        feat, _ = self.feat_project(feat, arc)\n",
    "        out = [base_input, feat]\n",
    "        # branch 3\n",
    "        if self.sigmoid:\n",
    "            pred = self.pred_conv(base_input)\n",
    "            pred, matrix = self.pred_project(pred, arc)\n",
    "            pred = self.sigmoid_layer(pred)\n",
    "            matrix = self.sigmoid_layer(matrix)\n",
    "            out.append(pred)\n",
    "            out = torch.cat(out, 1)\n",
    "            return out, matrix\n",
    "        else:\n",
    "            out = torch.cat(out, 1)\n",
    "            return out\n",
    "        \n",
    "class GridProjectPooling(nn.Module):\n",
    "    def __init__(self, device='cuda'):\n",
    "        super().__init__()\n",
    "        self.device = device\n",
    "    \n",
    "    def forward(self, x, arc):\n",
    "        '''\n",
    "        Args:\n",
    "            x (torch.tensor) -- input tensor of shape (B, C, H, W)\n",
    "            arc (list(torch.tensor)) -- row and col are binary predictions from Split module\n",
    "                                        for example [1, 1, 1, 0, 0, 1, 1, 0, ...]\n",
    "        Returns:\n",
    "            output (torch.tensor) -- same shape as input tensor\n",
    "            matrix (torch.tensor) -- matrix of shape M x N\n",
    "                                        where M is the number of rows\n",
    "                                              N is the number of columns\n",
    "        '''\n",
    "        b, c, h, w = x.shape\n",
    "        h_line, v_line = arc\n",
    "        self.h_line = [torch.tensor([0.], dtype=torch.double, device=self.device)] \\\n",
    "                    + h_line \\\n",
    "                    + [torch.tensor([1.], dtype=torch.double, device=self.device)]\n",
    "        self.v_line = [torch.tensor([0.], dtype=torch.double, device=self.device)] \\\n",
    "                    + v_line \\\n",
    "                    + [torch.tensor([1.], dtype=torch.double, device=self.device)]\n",
    "        self.h_line = (self.h_line * h).round().type(torch.int)\n",
    "        self.v_line = (self.v_line * w).round().type(torch.int)\n",
    "\n",
    "        rows = [self.h_line[i + 1] - self.h_line[i] \n",
    "                for i in range(len(self.h_line) - 1)]\n",
    "        columns = [self.v_line[i + 1] - self.v_line[i] \n",
    "                   for i in range(len(self.v_line) - 1)]\n",
    "        slices = torch.split(x, rows, 2) # ERROR\n",
    "        means = [torch.mean(y, 2).unsqueeze(2) for y in slices]\n",
    "        matrix = torch.cat(means, 2)\n",
    "        blocks = [means[i].repeat(1, 1, rows[i], 1) for i in range(len(means))]\n",
    "        block = torch.cat(blocks, 2)\n",
    "\n",
    "        means = [torch.mean(y, 3).unsqueeze(3) for y in torch.split(matrix, columns, 3)]\n",
    "        matrix = torch.cat(means, 3)\n",
    "        block_mean = [torch.mean(y, 3).unsqueeze(3) for y in torch.split(block, columns, 3)]\n",
    "        blocks = [block_mean[i].repeat(1, 1, 1, columns[i]) for i in range(len(block_mean))]\n",
    "        output = torch.cat(blocks, 3)\n",
    "        return output, matrix"
   ]
  },
  {
   "cell_type": "code",
   "execution_count": null,
   "metadata": {},
   "outputs": [],
   "source": []
  }
 ],
 "metadata": {
  "kernelspec": {
   "display_name": "opencv-tut",
   "language": "python",
   "name": "python3"
  },
  "language_info": {
   "codemirror_mode": {
    "name": "ipython",
    "version": 3
   },
   "file_extension": ".py",
   "mimetype": "text/x-python",
   "name": "python",
   "nbconvert_exporter": "python",
   "pygments_lexer": "ipython3",
   "version": "3.11.5"
  }
 },
 "nbformat": 4,
 "nbformat_minor": 2
}
